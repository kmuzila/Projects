{
 "cells": [
  {
   "cell_type": "markdown",
   "id": "e54eec46-7a75-46a7-8438-d151a29f5447",
   "metadata": {},
   "source": [
    "## About this notebook"
   ]
  },
  {
   "cell_type": "markdown",
   "id": "75bb7d8b-bd0d-4f57-8d84-1e57d0316971",
   "metadata": {},
   "source": [
    "Feature selection:\n",
    "\n",
    "If a feature has > 50% none, null for categorical, or 0 for numerical, then tentatively being removed for the model testing. \n",
    "Features with relative normal distribution were saved. \n",
    "\n",
    "Modeling:\n",
    "Assuming from the lookup envr feature table, we will know zone, tmax/tmin -> temperature bucket, sun hour, plant data were subsetted and then run clustering. \n",
    "PCA reduced feature dimension from 109 to 44, with 95% cumulative explained variances.  \n",
    "KMeans clustings with hyperparameter tuning is ongoing. silhouette score is used to evaluate k."
   ]
  },
  {
   "cell_type": "code",
   "execution_count": 2,
   "id": "82b63a13-57e0-4932-bc59-908bfebd1a77",
   "metadata": {},
   "outputs": [],
   "source": [
    "import pandas as pd\n",
    "import matplotlib.pyplot as plt\n",
    "import numpy as np\n",
    "import matplotlib.pyplot as plt\n",
    "from mpl_toolkits.mplot3d import Axes3D\n",
    "from sklearn.decomposition import PCA\n",
    "from sklearn.manifold import TSNE\n",
    "\n",
    "%matplotlib inline\n",
    "import seaborn as sns\n",
    "from sklearn.preprocessing import StandardScaler, OneHotEncoder\n",
    "from sklearn.metrics import silhouette_score\n",
    "from sklearn.cluster import KMeans, DBSCAN, SpectralClustering\n",
    "from sklearn.compose import ColumnTransformer\n",
    "from sklearn.pipeline import make_pipeline\n",
    "from sklearn.model_selection import train_test_split\n",
    "pd.set_option('display.max_columns', None)"
   ]
  },
  {
   "cell_type": "code",
   "execution_count": 3,
   "id": "13ae0777-cb26-4bee-8cb7-bd018a07dd2c",
   "metadata": {},
   "outputs": [],
   "source": [
    "df = pd.read_csv('plant_checkpoint.csv', index_col=0)"
   ]
  },
  {
   "cell_type": "code",
   "execution_count": 4,
   "id": "3a053335-01ac-44e6-95a5-6edd95a29f04",
   "metadata": {},
   "outputs": [],
   "source": [
    "df.head()"
   ]
  },
  {
   "cell_type": "code",
   "execution_count": 5,
   "id": "c8ee1401-9a48-4fff-82fb-b6ec303c0743",
   "metadata": {},
   "outputs": [],
   "source": [
    "df.columns"
   ]
  },
  {
   "cell_type": "code",
   "execution_count": 6,
   "id": "5cb7d69f-a201-4621-b708-282df7a8a346",
   "metadata": {},
   "outputs": [],
   "source": [
    "num_cols = ['height', 'width', 'emergence_days', 'zones']\n",
    "str_cols = ['attracts', 'common', 'flower', 'fruit', 'leaf', 'water', 'genus', 'special_feature', 'scientific_name', 'description',\n",
    "       'soil_conditions', 'texture', 'maintenance',\n",
    "       'native_region', 'propagation', 'bloom_time', 'sun', 'problem_solvers',\n",
    "       'type', 'family', 'color', 'temp_bucket']"
   ]
  },
  {
   "cell_type": "code",
   "execution_count": 7,
   "id": "594c8a7f-df7f-4b4b-b9d9-f667734bf380",
   "metadata": {},
   "outputs": [],
   "source": [
    "l=len(df)\n",
    "for col in str_cols:\n",
    "    print(col, len(df[df[col]=='none'])/l*100)\n",
    "    print('------')\n",
    "    \n",
    "for col in num_cols: \n",
    "    print(col, len(df[df[col]==0])/l*100)\n",
    "    print('--------')"
   ]
  },
  {
   "cell_type": "code",
   "execution_count": 8,
   "id": "82568c8e-f21b-42bf-b146-a4f7d9834ba4",
   "metadata": {},
   "outputs": [],
   "source": [
    "# drop cols that have > 50% missing values\n",
    "spececis = ['common']\n",
    "num_cols = ['height', 'width', 'zones']\n",
    "cat_cols = ['water', 'special_feature', 'propagation', 'bloom_time', 'sun', 'problem_solvers',\n",
    "       'type', 'temp_bucket']\n",
    "# color need help， genus"
   ]
  },
  {
   "cell_type": "code",
   "execution_count": 9,
   "id": "7b34a48b-176e-4c2a-be12-945abd193b6b",
   "metadata": {},
   "outputs": [
    {
     "name": "stderr",
     "output_type": "stream",
     "text": [
      "/tmp/ipykernel_1798/3476143780.py:4: SettingWithCopyWarning: \n",
      "A value is trying to be set on a copy of a slice from a DataFrame\n",
      "\n",
      "See the caveats in the documentation: https://pandas.pydata.org/pandas-docs/stable/user_guide/indexing.html#returning-a-view-versus-a-copy\n",
      "  sub.drop_duplicates(inplace=True)\n"
     ]
    }
   ],
   "source": [
    "features_cols = cat_cols + num_cols\n",
    "saved_cols = features_cols + spececis\n",
    "sub = df[saved_cols]\n",
    "sub.drop_duplicates(inplace=True)"
   ]
  },
  {
   "cell_type": "code",
   "execution_count": 10,
   "id": "53278d4b-7cd0-4b6e-b855-d128f8b9fa8b",
   "metadata": {},
   "outputs": [
    {
     "data": {
      "text/plain": [
       "(140362, 12)"
      ]
     },
     "execution_count": 10,
     "metadata": {},
     "output_type": "execute_result"
    }
   ],
   "source": [
    "temp_bucket = 'low'\n",
    "zone = 7 \n",
    "\n",
    "sub = sub[(sub['temp_bucket']== temp_bucket) & (sub['zones']== zone)]\n",
    "sub.shape"
   ]
  },
  {
   "cell_type": "code",
   "execution_count": 11,
   "id": "6c3d4ac8-1f33-41bb-8d65-7c1bb9df62b1",
   "metadata": {},
   "outputs": [],
   "source": [
    "feature = sub[features_cols]\n",
    "target = sub['common']"
   ]
  },
  {
   "cell_type": "code",
   "execution_count": 12,
   "id": "9224c1d1-9f6c-408e-86ea-2d883f485d3d",
   "metadata": {},
   "outputs": [],
   "source": [
    "data_train, data_test, target_train, target_test = train_test_split(feature, target, random_state=42)"
   ]
  },
  {
   "cell_type": "code",
   "execution_count": 13,
   "id": "62dcad29-e168-478d-883e-fbe185c97773",
   "metadata": {},
   "outputs": [
    {
     "data": {
      "text/html": [
       "<div>\n",
       "<style scoped>\n",
       "    .dataframe tbody tr th:only-of-type {\n",
       "        vertical-align: middle;\n",
       "    }\n",
       "\n",
       "    .dataframe tbody tr th {\n",
       "        vertical-align: top;\n",
       "    }\n",
       "\n",
       "    .dataframe thead th {\n",
       "        text-align: right;\n",
       "    }\n",
       "</style>\n",
       "<table border=\"1\" class=\"dataframe\">\n",
       "  <thead>\n",
       "    <tr style=\"text-align: right;\">\n",
       "      <th></th>\n",
       "      <th>water</th>\n",
       "      <th>special_feature</th>\n",
       "      <th>propagation</th>\n",
       "      <th>bloom_time</th>\n",
       "      <th>sun</th>\n",
       "      <th>problem_solvers</th>\n",
       "      <th>type</th>\n",
       "      <th>temp_bucket</th>\n",
       "      <th>height</th>\n",
       "      <th>width</th>\n",
       "      <th>zones</th>\n",
       "    </tr>\n",
       "  </thead>\n",
       "  <tbody>\n",
       "    <tr>\n",
       "      <th>8851</th>\n",
       "      <td>none</td>\n",
       "      <td>attracts birds</td>\n",
       "      <td>seed</td>\n",
       "      <td>summer bloom</td>\n",
       "      <td>full sun</td>\n",
       "      <td>good for privacy</td>\n",
       "      <td>vine</td>\n",
       "      <td>low</td>\n",
       "      <td>0</td>\n",
       "      <td>27</td>\n",
       "      <td>7</td>\n",
       "    </tr>\n",
       "    <tr>\n",
       "      <th>8604</th>\n",
       "      <td>dry</td>\n",
       "      <td>ground cover</td>\n",
       "      <td>none</td>\n",
       "      <td>may</td>\n",
       "      <td>full sun</td>\n",
       "      <td>heavy shade</td>\n",
       "      <td>herbaceous perennial</td>\n",
       "      <td>low</td>\n",
       "      <td>0</td>\n",
       "      <td>0</td>\n",
       "      <td>7</td>\n",
       "    </tr>\n",
       "    <tr>\n",
       "      <th>8851</th>\n",
       "      <td>none</td>\n",
       "      <td>low maintenance</td>\n",
       "      <td>stem cuttings</td>\n",
       "      <td>winter bloom</td>\n",
       "      <td>full sun</td>\n",
       "      <td>deer resistant</td>\n",
       "      <td>houseplant</td>\n",
       "      <td>low</td>\n",
       "      <td>0</td>\n",
       "      <td>23</td>\n",
       "      <td>7</td>\n",
       "    </tr>\n",
       "    <tr>\n",
       "      <th>8865</th>\n",
       "      <td>none</td>\n",
       "      <td>fragrance</td>\n",
       "      <td>layering</td>\n",
       "      <td>summer bloom</td>\n",
       "      <td>full shade</td>\n",
       "      <td>deer resistant</td>\n",
       "      <td>shrub</td>\n",
       "      <td>low</td>\n",
       "      <td>5</td>\n",
       "      <td>23</td>\n",
       "      <td>7</td>\n",
       "    </tr>\n",
       "    <tr>\n",
       "      <th>1784</th>\n",
       "      <td>wet</td>\n",
       "      <td>rain garden</td>\n",
       "      <td>none</td>\n",
       "      <td>june</td>\n",
       "      <td>full sun</td>\n",
       "      <td>erosion</td>\n",
       "      <td>rush or sedge</td>\n",
       "      <td>low</td>\n",
       "      <td>2</td>\n",
       "      <td>1</td>\n",
       "      <td>7</td>\n",
       "    </tr>\n",
       "    <tr>\n",
       "      <th>...</th>\n",
       "      <td>...</td>\n",
       "      <td>...</td>\n",
       "      <td>...</td>\n",
       "      <td>...</td>\n",
       "      <td>...</td>\n",
       "      <td>...</td>\n",
       "      <td>...</td>\n",
       "      <td>...</td>\n",
       "      <td>...</td>\n",
       "      <td>...</td>\n",
       "      <td>...</td>\n",
       "    </tr>\n",
       "    <tr>\n",
       "      <th>8865</th>\n",
       "      <td>none</td>\n",
       "      <td>fragrance</td>\n",
       "      <td>seed</td>\n",
       "      <td>fall bloom</td>\n",
       "      <td>part sun</td>\n",
       "      <td>deer resistant</td>\n",
       "      <td>shrub</td>\n",
       "      <td>low</td>\n",
       "      <td>4</td>\n",
       "      <td>11</td>\n",
       "      <td>7</td>\n",
       "    </tr>\n",
       "    <tr>\n",
       "      <th>8869</th>\n",
       "      <td>none</td>\n",
       "      <td>good for containers</td>\n",
       "      <td>division</td>\n",
       "      <td>winter interest</td>\n",
       "      <td>part sun</td>\n",
       "      <td>groundcover</td>\n",
       "      <td>perennial</td>\n",
       "      <td>low</td>\n",
       "      <td>0</td>\n",
       "      <td>5</td>\n",
       "      <td>7</td>\n",
       "    </tr>\n",
       "    <tr>\n",
       "      <th>8858</th>\n",
       "      <td>none</td>\n",
       "      <td>fragrance</td>\n",
       "      <td>grafting</td>\n",
       "      <td>winter interest</td>\n",
       "      <td>full sun</td>\n",
       "      <td>good for privacy</td>\n",
       "      <td>tree</td>\n",
       "      <td>low</td>\n",
       "      <td>5</td>\n",
       "      <td>19</td>\n",
       "      <td>7</td>\n",
       "    </tr>\n",
       "    <tr>\n",
       "      <th>8875</th>\n",
       "      <td>none</td>\n",
       "      <td>fragrance</td>\n",
       "      <td>stem cuttings</td>\n",
       "      <td>spring bloom</td>\n",
       "      <td>part sun</td>\n",
       "      <td>good for privacy</td>\n",
       "      <td>vine</td>\n",
       "      <td>low</td>\n",
       "      <td>18</td>\n",
       "      <td>9</td>\n",
       "      <td>7</td>\n",
       "    </tr>\n",
       "    <tr>\n",
       "      <th>8870</th>\n",
       "      <td>none</td>\n",
       "      <td>low maintenance</td>\n",
       "      <td>seed</td>\n",
       "      <td>colorful fall foliage</td>\n",
       "      <td>full sun</td>\n",
       "      <td>drought tolerant</td>\n",
       "      <td>shrub</td>\n",
       "      <td>low</td>\n",
       "      <td>11</td>\n",
       "      <td>12</td>\n",
       "      <td>7</td>\n",
       "    </tr>\n",
       "  </tbody>\n",
       "</table>\n",
       "<p>105271 rows × 11 columns</p>\n",
       "</div>"
      ],
      "text/plain": [
       "     water      special_feature    propagation             bloom_time  \\\n",
       "8851  none       attracts birds           seed           summer bloom   \n",
       "8604   dry         ground cover           none                    may   \n",
       "8851  none      low maintenance  stem cuttings           winter bloom   \n",
       "8865  none            fragrance       layering           summer bloom   \n",
       "1784   wet          rain garden           none                   june   \n",
       "...    ...                  ...            ...                    ...   \n",
       "8865  none            fragrance           seed             fall bloom   \n",
       "8869  none  good for containers       division        winter interest   \n",
       "8858  none            fragrance       grafting        winter interest   \n",
       "8875  none            fragrance  stem cuttings           spring bloom   \n",
       "8870  none      low maintenance           seed  colorful fall foliage   \n",
       "\n",
       "             sun   problem_solvers                  type temp_bucket  height  \\\n",
       "8851    full sun  good for privacy                  vine         low       0   \n",
       "8604    full sun       heavy shade  herbaceous perennial         low       0   \n",
       "8851    full sun    deer resistant            houseplant         low       0   \n",
       "8865  full shade    deer resistant                 shrub         low       5   \n",
       "1784    full sun           erosion         rush or sedge         low       2   \n",
       "...          ...               ...                   ...         ...     ...   \n",
       "8865    part sun    deer resistant                 shrub         low       4   \n",
       "8869    part sun       groundcover             perennial         low       0   \n",
       "8858    full sun  good for privacy                  tree         low       5   \n",
       "8875    part sun  good for privacy                  vine         low      18   \n",
       "8870    full sun  drought tolerant                 shrub         low      11   \n",
       "\n",
       "      width  zones  \n",
       "8851     27      7  \n",
       "8604      0      7  \n",
       "8851     23      7  \n",
       "8865     23      7  \n",
       "1784      1      7  \n",
       "...     ...    ...  \n",
       "8865     11      7  \n",
       "8869      5      7  \n",
       "8858     19      7  \n",
       "8875      9      7  \n",
       "8870     12      7  \n",
       "\n",
       "[105271 rows x 11 columns]"
      ]
     },
     "execution_count": 13,
     "metadata": {},
     "output_type": "execute_result"
    }
   ],
   "source": [
    "data_train"
   ]
  },
  {
   "cell_type": "code",
   "execution_count": 14,
   "id": "86b08fe8-dcf1-4587-afab-cf312ca8092f",
   "metadata": {},
   "outputs": [],
   "source": [
    "# plt.figure(figsize=(20, 20))\n",
    "# plt.subplots_adjust(hspace=1)\n",
    "# plt.suptitle(\"Feature Distribution\", fontsize=18, y=0.95)\n",
    "\n",
    "# n_features = len(features_cols)\n",
    "# ns_cols = 3\n",
    "# ns_rows = int(n_features/ns_cols)+1\n",
    "\n",
    "# for i, col in enumerate(features_cols):\n",
    "#     ax = plt.subplot(ns_rows, ns_cols, i+1)\n",
    "#     distribution = pd.DataFrame(df.groupby(col)['common'].count().sort_values())\n",
    "#     distribution.plot.bar(y='common', ylabel = 'counts', title=f'Num of Plants Per {col}', ax=ax)"
   ]
  },
  {
   "cell_type": "code",
   "execution_count": 15,
   "id": "451b54d7-5407-4c77-bfeb-aba9bf96f8a3",
   "metadata": {},
   "outputs": [],
   "source": [
    "categorical_preprocessor = OneHotEncoder(handle_unknown=\"ignore\")\n",
    "numerical_preprocessor = StandardScaler()\n",
    "\n",
    "scaled_columns  = numerical_preprocessor.fit_transform(data_train[num_cols]) \n",
    "encoded_columns = categorical_preprocessor.fit_transform(data_train[cat_cols])\n",
    "\n",
    "# Concatenate (Column-Bind) Processed Columns Back Together\n",
    "processed_data = np.concatenate((scaled_columns, encoded_columns.todense()),axis=1)"
   ]
  },
  {
   "cell_type": "code",
   "execution_count": 16,
   "id": "2b04f0e3-d816-4fed-84da-2d4d0aefaeee",
   "metadata": {},
   "outputs": [
    {
     "data": {
      "text/plain": [
       "(105271, 109)"
      ]
     },
     "execution_count": 16,
     "metadata": {},
     "output_type": "execute_result"
    }
   ],
   "source": [
    "processed_data.shape"
   ]
  },
  {
   "cell_type": "code",
   "execution_count": 17,
   "id": "996904ff-aebe-465d-bed1-dbe8beaa7cdd",
   "metadata": {},
   "outputs": [
    {
     "name": "stderr",
     "output_type": "stream",
     "text": [
      "/home/studio-lab-user/.conda/envs/default/lib/python3.9/site-packages/sklearn/utils/validation.py:727: FutureWarning: np.matrix usage is deprecated in 1.0 and will raise a TypeError in 1.2. Please convert to a numpy array with np.asarray. For more information see: https://numpy.org/doc/stable/reference/generated/numpy.matrix.html\n",
      "  warnings.warn(\n"
     ]
    },
    {
     "data": {
      "image/png": "[encoded data removed]",
      "text/plain": [
       "<Figure size 640x480 with 1 Axes>"
      ]
     },
     "metadata": {},
     "output_type": "display_data"
    }
   ],
   "source": [
    "pca = PCA(n_components=50,random_state=42)\n",
    "\n",
    "pca_model = pca.fit(processed_data)\n",
    "ratio = pca_model.explained_variance_ratio_\n",
    "cum_sum_eigenvalues = np.cumsum(ratio)\n",
    "\n",
    "plt.bar(range(len(cum_sum_eigenvalues)), ratio, alpha=0.5, align='center', label='Individual explained variance')\n",
    "plt.step(range(len(cum_sum_eigenvalues)), cum_sum_eigenvalues, where='mid',label='Cumulative explained variance')\n",
    "plt.ylabel('Explained variance ratio')\n",
    "plt.xlabel('Principal component index')\n",
    "plt.legend(loc='best')\n",
    "plt.tight_layout()\n",
    "plt.axhline(y=0.95, color='r', linestyle='-')\n",
    "plt.show()"
   ]
  },
  {
   "cell_type": "code",
   "execution_count": 18,
   "id": "d2597657-3b9b-4192-bcc5-cfcd826ab7e6",
   "metadata": {},
   "outputs": [
    {
     "name": "stderr",
     "output_type": "stream",
     "text": [
      "/home/studio-lab-user/.conda/envs/default/lib/python3.9/site-packages/sklearn/utils/validation.py:727: FutureWarning: np.matrix usage is deprecated in 1.0 and will raise a TypeError in 1.2. Please convert to a numpy array with np.asarray. For more information see: https://numpy.org/doc/stable/reference/generated/numpy.matrix.html\n",
      "  warnings.warn(\n"
     ]
    }
   ],
   "source": [
    "cutoff = np.where(cum_sum_eigenvalues>0.95)[0][0]\n",
    "pca = PCA(n_components=cutoff,random_state=42)\n",
    "pca_data = pca.fit_transform(processed_data)"
   ]
  },
  {
   "cell_type": "code",
   "execution_count": 19,
   "id": "741e4d4e-8b17-4dab-8814-d912d0f20d5b",
   "metadata": {},
   "outputs": [
    {
     "data": {
      "text/plain": [
       "(105271, 44)"
      ]
     },
     "execution_count": 19,
     "metadata": {},
     "output_type": "execute_result"
    }
   ],
   "source": [
    "pca_data.shape"
   ]
  },
  {
   "cell_type": "code",
   "execution_count": 22,
   "id": "e1685e00-2c68-4795-8eed-583766da5ea6",
   "metadata": {},
   "outputs": [],
   "source": [
    "# from sklearn.metrics import silhouette_samples, silhouette_score\n",
    "# dbscan = DBSCAN(eps=0.3, min_samples=5000).fit(pca_data)\n",
    "# labels = dbscan.labels_\n",
    "\n",
    "# Get silhouette samples\n",
    "# score = silhouette_score(processed_data, labels, metric='euclidean')\n",
    "# print(str(k) + 'clusters:\\n')\n",
    "# print(score)\n",
    "# print('------------')"
   ]
  },
  {
   "cell_type": "code",
   "execution_count": 21,
   "id": "e7da1749-a3c8-438f-8b38-3de3bd5da8be",
   "metadata": {},
   "outputs": [
    {
     "data": {
      "text/plain": [
       "array([-1, -1, -1, ..., -1, -1, -1])"
      ]
     },
     "execution_count": 21,
     "metadata": {},
     "output_type": "execute_result"
    }
   ],
   "source": [
    "# labels"
   ]
  },
  {
   "cell_type": "code",
   "execution_count": 23,
   "id": "17867646-edbd-4f87-b13d-ebe656bc4445",
   "metadata": {},
   "outputs": [
    {
     "name": "stdout",
     "output_type": "stream",
     "text": [
      "100clusters:\n",
      "\n",
      "0.13424274130719144\n",
      "------------\n",
      "50clusters:\n",
      "\n",
      "0.11881242659687667\n",
      "------------\n"
     ]
    }
   ],
   "source": [
    "# # # Kmeans\n",
    "from sklearn.metrics import silhouette_samples, silhouette_score\n",
    "n_clusters=[100, 50]\n",
    "\n",
    "for k in n_clusters: \n",
    "  km = KMeans(n_clusters=k, random_state=42)\n",
    "  km_model = km.fit(pca_data)\n",
    "\n",
    "  labels = km_model.labels_\n",
    "  # centroids = km.cluster_centers_\n",
    "\n",
    "    # Get silhouette samples\n",
    "  score = silhouette_score(pca_data, labels, metric='euclidean')\n",
    "  print(str(k) + 'clusters:\\n')\n",
    "  print(score)\n",
    "  print('------------')"
   ]
  },
  {
   "cell_type": "code",
   "execution_count": 24,
   "id": "985b6c95-70a4-464c-8764-3e885a7dbee2",
   "metadata": {},
   "outputs": [
    {
     "name": "stdout",
     "output_type": "stream",
     "text": [
      "300 clusters:\n",
      "\n",
      "0.17748268304569184\n",
      "------------\n",
      "250 clusters:\n",
      "\n",
      "0.16620327219163225\n",
      "------------\n",
      "200 clusters:\n",
      "\n",
      "0.1526662571013002\n",
      "------------\n",
      "150 clusters:\n",
      "\n",
      "0.14409016581469797\n",
      "------------\n"
     ]
    }
   ],
   "source": [
    "n_clusters=[300, 250, 200, 150]\n",
    "\n",
    "for k in n_clusters: \n",
    "  km = KMeans(n_clusters=k, random_state=42)\n",
    "  km_model = km.fit(pca_data)\n",
    "\n",
    "  labels = km_model.labels_\n",
    "  # centroids = km.cluster_centers_\n",
    "\n",
    "    # Get silhouette samples\n",
    "  score = silhouette_score(pca_data, labels, metric='euclidean')\n",
    "  print(str(k) + ' clusters:\\n')\n",
    "  print(score)\n",
    "  print('------------')"
   ]
  },
  {
   "cell_type": "code",
   "execution_count": null,
   "id": "d6fcf2b7-ae96-4ee5-ad63-252e9d9b67f2",
   "metadata": {},
   "outputs": [],
   "source": [
    "# agr = pca_data\n",
    "# agr['labels']=labels\n",
    "# agr['common']=target_train\n",
    "\n",
    "# agr.groupby('common')"
   ]
  }
 ],
 "metadata": {
  "kernelspec": {
   "display_name": "default:Python",
   "language": "python",
   "name": "conda-env-default-py"
  },
  "language_info": {
   "codemirror_mode": {
    "name": "ipython",
    "version": 3
   },
   "file_extension": ".py",
   "mimetype": "text/x-python",
   "name": "python",
   "nbconvert_exporter": "python",
   "pygments_lexer": "ipython3",
   "version": "3.9.13"
  }
 },
 "nbformat": 4,
 "nbformat_minor": 5
}

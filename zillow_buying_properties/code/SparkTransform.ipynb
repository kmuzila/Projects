{
 "cells": [
  {
   "cell_type": "code",
   "execution_count": 66,
   "metadata": {
    "collapsed": true
   },
   "outputs": [],
   "source": [
    "#!/usr/bin/python3\n",
    "import json\n",
    "import time\n",
    "import pandas as pd\n",
    "from pyspark.sql import SparkSession\n",
    "from pyspark.sql.functions import udf, from_json, explode, split, posexplode, col\n",
    "from pyspark.sql.types import StructType, StructField, StringType, DoubleType, BooleanType, FloatType, IntegerType, ArrayType"
   ]
  },
  {
   "cell_type": "code",
   "execution_count": 67,
   "metadata": {
    "collapsed": true
   },
   "outputs": [],
   "source": [
    "\"\"\"\n",
    "We want to create two tables, one table that stores the event of calling the API, \n",
    "and one event that appends the results of the API call. \n",
    "\"\"\"\n",
    "def aggregate_request_event_schema():\n",
    "    \"\"\"\n",
    "    root\n",
    "     |-- Accept: string (nullable = true)\n",
    "     |-- Content-Length: string (nullable = true)\n",
    "     |-- Content-Type: string (nullable = true)\n",
    "     |-- Host: string (nullable = true)\n",
    "     |-- User-Agent: string (nullable = true)\n",
    "     |-- zipcodes: string (nullable = true)\n",
    "     |-- event_data: string (nullable = true)\n",
    "     |-- event_type: string (nullable = true)\n",
    "     |-- query_timestamp: string (nullable = true)\n",
    "    \"\"\"\n",
    "    return StructType([\n",
    "        StructField(\"Accept\", StringType(), True),\n",
    "        StructField(\"Content-Length\", StringType(), True),\n",
    "        StructField(\"Content-Type\", StringType(), True),\n",
    "        StructField(\"Host\", StringType(), True),\n",
    "        StructField(\"User-Agent\", StringType(), True),\n",
    "        StructField(\"zipcodes\", StringType(), True),\n",
    "        StructField(\"event_data\", StringType(), True),\n",
    "        StructField(\"event_type\", StringType(), True),\n",
    "        StructField(\"query_timestamp\", StringType(), True)\n",
    "    ])\n",
    "\n",
    "@udf('boolean')\n",
    "def is_zipcode_event(event_as_json):\n",
    "    \"\"\"\n",
    "    udf for filtering events\n",
    "    \"\"\"\n",
    "    event = json.loads(event_as_json)\n",
    "    if event.get(\"event_type\").startswith(\"get_\"):\n",
    "        return True\n",
    "    return False\n",
    "\n",
    "@udf('boolean')\n",
    "def is_company_event(event_as_json):\n",
    "    event = json.loads(event_as_json)\n",
    "    event_type = event.get(\"event_type\")\n",
    "    return event_type == \"get_yelp_data\" or event_type == \"get_zillow_data\" \n",
    "\n",
    "@udf('boolean')\n",
    "def is_zipcode_equal(zipcode1, zipcode2):\n",
    "    return zipcode1 == zipcode2"
   ]
  },
  {
   "cell_type": "code",
   "execution_count": 68,
   "metadata": {
    "collapsed": true
   },
   "outputs": [],
   "source": [
    "    ##We open the spark session\n",
    "    spark = SparkSession \\\n",
    "        .builder \\\n",
    "        .appName(\"ExtractEventsJob\") \\\n",
    "        .enableHiveSupport() \\\n",
    "        .getOrCreate()    \n",
    "    \n",
    "\n",
    "    raw_events = spark \\\n",
    "      .read \\\n",
    "      .format(\"kafka\") \\\n",
    "      .option(\"kafka.bootstrap.servers\", \"kafka:29092\") \\\n",
    "      .option(\"subscribe\",\"events\") \\\n",
    "      .option(\"startingOffsets\", \"earliest\") \\\n",
    "      .option(\"endingOffsets\", \"latest\") \\\n",
    "      .option(\"multiline\", \"true\") \\\n",
    "      .load()"
   ]
  },
  {
   "cell_type": "code",
   "execution_count": 69,
   "metadata": {},
   "outputs": [
    {
     "name": "stdout",
     "output_type": "stream",
     "text": [
      "+--------------------+--------------------+------+--------------+------------+-----------------+---------------+--------+--------------------+---------------+---------------+\n",
      "|           raw_event|           timestamp|Accept|Content-Length|Content-Type|             Host|     User-Agent|zipcodes|          event_data|     event_type|query_timestamp|\n",
      "+--------------------+--------------------+------+--------------+------------+-----------------+---------------+--------+--------------------+---------------+---------------+\n",
      "|{\"event_type\": \"g...|2021-12-06 15:43:...|   */*|          null|        null|user1.comcast.com|ApacheBench/2.3|   92354|[{\"id\":\"pcPeziE1S...|  get_yelp_data|15:43:59.133894|\n",
      "|{\"event_type\": \"g...|2021-12-06 17:29:...|   */*|          null|        null|user1.comcast.com|ApacheBench/2.3|   92354|[{\"id\":\"pcPeziE1S...|  get_yelp_data|17:29:40.456872|\n",
      "|{\"event_type\": \"g...|2021-12-06 17:35:...|   */*|          null|        null|user1.comcast.com|ApacheBench/2.3|   92557|[{\"zpid\":17875262...|get_zillow_data|17:35:20.014200|\n",
      "+--------------------+--------------------+------+--------------+------------+-----------------+---------------+--------+--------------------+---------------+---------------+\n",
      "\n"
     ]
    }
   ],
   "source": [
    "    zipcode_data = raw_events \\\n",
    "        .filter(is_zipcode_event(raw_events.value.cast('string'))) \\\n",
    "        .select(raw_events.value.cast('string').alias('raw_event'),\n",
    "                raw_events.timestamp.cast('string'),\n",
    "                from_json(raw_events.value.cast('string'),\n",
    "                          aggregate_request_event_schema()).alias('json')) \\\n",
    "        .select('raw_event', 'timestamp', 'json.*')\n",
    "        \n",
    "    zipcode_data.show(5)"
   ]
  },
  {
   "cell_type": "code",
   "execution_count": null,
   "metadata": {},
   "outputs": [],
   "source": [
    "zipcode_data.write.parquet(\"/tmp/raw-requests\") #Write raw data to Hadoop instance"
   ]
  },
  {
   "cell_type": "code",
   "execution_count": 24,
   "metadata": {},
   "outputs": [
    {
     "name": "stdout",
     "output_type": "stream",
     "text": [
      "+------+--------------+------------+-----------------+---------------+--------+--------------------+-------------+---------------+\n",
      "|Accept|Content-Length|Content-Type|             Host|     User-Agent|zipcodes|          event_data|   event_type|query_timestamp|\n",
      "+------+--------------+------------+-----------------+---------------+--------+--------------------+-------------+---------------+\n",
      "|   */*|          null|        null|user1.comcast.com|ApacheBench/2.3|   92354|[{\"id\":\"pcPeziE1S...|get_yelp_data|15:43:59.133894|\n",
      "+------+--------------+------------+-----------------+---------------+--------+--------------------+-------------+---------------+\n",
      "\n"
     ]
    }
   ],
   "source": [
    "raw_events \\\n",
    "            .select(from_json(raw_events.value.cast('string'), aggregate_request_event_schema()).alias('json')) \\\n",
    "            .select('json.*') \\\n",
    "            .filter(is_company_event(raw_events.value.cast('string'))).show()"
   ]
  },
  {
   "cell_type": "code",
   "execution_count": 28,
   "metadata": {},
   "outputs": [
    {
     "name": "stdout",
     "output_type": "stream",
     "text": [
      "+--------------------+--------------------+--------------------+---------------------+--------------+---------------+--------------------+--------------------+---------+-------------------+-----------------+-----------------+-------------+----------------+------------------------+--------------+-----------------+--------------------+-----------------+---------------+-----+-----------+------+------------+--------------------+--------------------+\n",
      "|               alias|          categories|coordinates.latitude|coordinates.longitude| display_phone|       distance|                  id|           image_url|is_closed|  location.address1|location.address2|location.address3|location.city|location.country|location.display_address|location.state|location.zip_code|                name|parent_categories|          phone|price|price_count|rating|review_count|        transactions|                 url|\n",
      "+--------------------+--------------------+--------------------+---------------------+--------------+---------------+--------------------+--------------------+---------+-------------------+-----------------+-----------------+-------------+----------------+------------------------+--------------+-----------------+--------------------+-----------------+---------------+-----+-----------+------+------------+--------------------+--------------------+\n",
      "|  hiccups-loma-linda|asianfusion, viet...|           34.047878|          -117.241143|(909) 478-9586|8398.8374798523|pcPeziE1SB4x4dS2n...|https://s3-media3...|    false|    25805 Barton Rd|             null|             null|   Loma Linda|              US|    ['25805 Barton Rd...|            CA|          92354.0|             Hiccups|             null|1.9094789586E10|   $$|        2.0|   4.0|         314|['pickup', 'deliv...|https://www.yelp....|\n",
      "|thai-spoon-2-loma...|                thai|           34.049425|          -117.245734|(909) 478-0555|8488.9052347476|3OaMN0FJYDZxHR4AO...|https://s3-media3...|    false|    25596 Barton Rd|             null|             null|   Loma Linda|              US|    ['25596 Barton Rd...|            CA|          92354.0|        Thai Spoon 2|             null|1.9094780555E10|   $$|        2.0|   4.0|         233|['pickup', 'deliv...|https://www.yelp....|\n",
      "|r-thai-cuisine-lo...|                thai|           34.062842|          -117.244159|(909) 328-2000|9985.2118946641|lXBmQkbumc1Dcadvy...|https://s3-media2...|    false|25685 Redlands Blvd|            Ste B|             null|   Loma Linda|              US|    ['25685 Redlands ...|            CA|          92354.0|      R Thai Cuisine|             null|   1.9093282E10|    $|        1.0|   4.5|         166|        ['delivery']|https://www.yelp....|\n",
      "|sorrentinos-itali...|italian, salad, bars|            34.06267|           -117.24483|(909) 799-5508|6504.5694533931|Yo7cyFLbkGET0crEx...|https://s3-media4...|    false|25655 Redlands Blvd|             null|             null|   Loma Linda|              US|    ['25655 Redlands ...|            CA|          92354.0|Sorrentino's Ital...|             null|1.9097995508E10|    $|        1.0|   4.0|         156|        ['delivery']|https://www.yelp....|\n",
      "|napoli-italian-re...|italian, wine_bar...|           34.063246|          -117.259882|(909) 796-3770|7911.4918332638|HhlR6PCg6X68Pv21X...|https://s3-media2...|    false|24960 Redlands Blvd|             null|             null|   Loma Linda|              US|    ['24960 Redlands ...|            CA|          92354.0|Napoli Italian Re...|             null| 1.909796377E10|   $$|        2.0|   4.0|         360|          ['pickup']|https://www.yelp....|\n",
      "+--------------------+--------------------+--------------------+---------------------+--------------+---------------+--------------------+--------------------+---------+-------------------+-----------------+-----------------+-------------+----------------+------------------------+--------------+-----------------+--------------------+-----------------+---------------+-----+-----------+------+------------+--------------------+--------------------+\n",
      "\n"
     ]
    }
   ],
   "source": [
    "df = spark.read.option(\"multiline\", \"true\") \\\n",
    "    .json( \\\n",
    "            raw_events \\\n",
    "            .filter(is_company_event(raw_events.value.cast('string'))) \\\n",
    "            .select(from_json(raw_events.value.cast('string'), aggregate_request_event_schema()).alias('json'))\n",
    "            .select('json.*')\n",
    "            .rdd.map(lambda row: row.event_data)\n",
    "         )\n",
    "df.show(5)"
   ]
  },
  {
   "cell_type": "code",
   "execution_count": null,
   "metadata": {
    "collapsed": true
   },
   "outputs": [],
   "source": [
    "df.write.parquet(\"/tmp/company-data\") #Write raw data to Hadoop instance"
   ]
  },
  {
   "cell_type": "code",
   "execution_count": 135,
   "metadata": {
    "collapsed": true
   },
   "outputs": [],
   "source": [
    "schema = ArrayType(\n",
    "                    StructType([ \n",
    "                        StructField('id', StringType(), True),\n",
    "                        StructField('alias', StringType(), True),\n",
    "                        StructField('name', StringType(), True),\n",
    "                        StructField('image_url', StringType(), True),\n",
    "                        StructField('is_closed', BooleanType(), True),\n",
    "                        StructField('url', StringType(), True),\n",
    "                        StructField('review_count', IntegerType(), True),\n",
    "                        StructField('categories', StringType(), True),\n",
    "                        StructField('rating', FloatType(), True),\n",
    "                        StructField('transactions', StringType(), True),\n",
    "                        StructField('price', StringType(), True),\n",
    "                        StructField('phone', StringType(), True),\n",
    "                        StructField('display_phone', StringType(), True),\n",
    "                        StructField('distance', FloatType(), True),\n",
    "                        StructField('parent_categories', StringType(), True),\n",
    "                        StructField('coordinates.latitude', FloatType(), True),\n",
    "                        StructField('coordinates.longitude', FloatType(), True),\n",
    "                        StructField('location.address1', StringType(), True),\n",
    "                        StructField('location.address2', StringType(), True),\n",
    "                        StructField('location.address3', StringType(), True),\n",
    "                        StructField('location.city', StringType(), True),\n",
    "                        StructField('location.zip_code', IntegerType(), True),\n",
    "                        StructField('location.country', StringType(), True),\n",
    "                        StructField('location.state', StringType(), True),\n",
    "                        StructField('location.display_address', StringType(), True)\n",
    "                    ]))"
   ]
  },
  {
   "cell_type": "code",
   "execution_count": 136,
   "metadata": {},
   "outputs": [
    {
     "data": {
      "text/plain": [
       "StructType(List(StructField(event_data,StringType,true)))"
      ]
     },
     "execution_count": 136,
     "metadata": {},
     "output_type": "execute_result"
    }
   ],
   "source": [
    "implicit_schema = zipcode_data.select('event_data').schema\n",
    "implicit_schema"
   ]
  },
  {
   "cell_type": "code",
   "execution_count": 29,
   "metadata": {},
   "outputs": [
    {
     "ename": "NameError",
     "evalue": "name 'schema' is not defined",
     "output_type": "error",
     "traceback": [
      "\u001b[0;31m---------------------------------------------------------------------------\u001b[0m",
      "\u001b[0;31mNameError\u001b[0m                                 Traceback (most recent call last)",
      "\u001b[0;32m<ipython-input-29-efe890581beb>\u001b[0m in \u001b[0;36m<module>\u001b[0;34m()\u001b[0m\n\u001b[1;32m      1\u001b[0m \u001b[0;31m#zipcode_data.withColumn('json', explode(from_json('event_data', schema))) \\\u001b[0m\u001b[0;34m\u001b[0m\u001b[0;34m\u001b[0m\u001b[0m\n\u001b[0;32m----> 2\u001b[0;31m \u001b[0mzipcode_data\u001b[0m\u001b[0;34m.\u001b[0m\u001b[0mselect\u001b[0m\u001b[0;34m(\u001b[0m\u001b[0;34m'zipcodes'\u001b[0m\u001b[0;34m,\u001b[0m\u001b[0;34m'timestamp'\u001b[0m\u001b[0;34m,\u001b[0m\u001b[0;34m'event_type'\u001b[0m\u001b[0;34m,\u001b[0m\u001b[0mexplode\u001b[0m\u001b[0;34m(\u001b[0m\u001b[0mfrom_json\u001b[0m\u001b[0;34m(\u001b[0m\u001b[0;34m'event_data'\u001b[0m\u001b[0;34m,\u001b[0m \u001b[0mschema\u001b[0m\u001b[0;34m)\u001b[0m\u001b[0;34m)\u001b[0m\u001b[0;34m)\u001b[0m\u001b[0;34m.\u001b[0m\u001b[0mshow\u001b[0m\u001b[0;34m(\u001b[0m\u001b[0;36m5\u001b[0m\u001b[0;34m)\u001b[0m\u001b[0;34m\u001b[0m\u001b[0m\n\u001b[0m",
      "\u001b[0;31mNameError\u001b[0m: name 'schema' is not defined"
     ]
    }
   ],
   "source": [
    "#zipcode_data.withColumn('json', explode(from_json('event_data', schema))) \\\n",
    "zipcode_data.select('zipcodes','timestamp','event_type',explode(from_json('event_data', schema))).show(5)"
   ]
  },
  {
   "cell_type": "code",
   "execution_count": 73,
   "metadata": {},
   "outputs": [
    {
     "name": "stdout",
     "output_type": "stream",
     "text": [
      "+--------+--------------------+--------------------+-------------+-----+-------+--------+---------+----+-------+------+\n",
      "|    zpid|        full_address|      street_address|         city|state|zipcode|bedrooms|bathrooms|sqft|  price| owner|\n",
      "+--------+--------------------+--------------------+-------------+-----+-------+--------+---------+----+-------+------+\n",
      "|17875262|23043 seabrook ln...|   23043 seabrook ln|moreno valley|   ca|  92557|       2|        2| 936| 383900|zillow|\n",
      "|55030278|12953 bermuda dun...|12953 bermuda dun...|  victorville|   ca|  92395|       3|        2|1415| 362200|zillow|\n",
      "|69293332|41117 royal sunse...|41117 royal sunse...|lake elsinore|   ca|  92532|       5|        3|2750| 567900|zillow|\n",
      "|69261278|30684 emperor dr,...|    30684 emperor dr| quail valley|   ca|  92587|       3|        2|2020| 661900|zillow|\n",
      "|25513735|2693 brand dr, tu...|       2693 brand dr|       tustin|   ca|  92782|       4|        3|2100|1166200|zillow|\n",
      "+--------+--------------------+--------------------+-------------+-----+-------+--------+---------+----+-------+------+\n",
      "only showing top 5 rows\n",
      "\n"
     ]
    }
   ],
   "source": [
    "    zillow = spark.read.option('header', 'true').csv('file:///w205/w205_project_3_karl_joe_kasha/zillow_2021_11_17.csv')\n",
    "    zillow.show(5)"
   ]
  },
  {
   "cell_type": "code",
   "execution_count": 74,
   "metadata": {},
   "outputs": [
    {
     "name": "stdout",
     "output_type": "stream",
     "text": [
      "+-------+\n",
      "|zipcode|\n",
      "+-------+\n",
      "|  92557|\n",
      "|  92395|\n",
      "|  92532|\n",
      "|  92587|\n",
      "|  92782|\n",
      "+-------+\n",
      "only showing top 5 rows\n",
      "\n"
     ]
    }
   ],
   "source": [
    "zillow.select(zillow.zipcode).show(5)"
   ]
  },
  {
   "cell_type": "code",
   "execution_count": 77,
   "metadata": {},
   "outputs": [
    {
     "data": {
      "text/plain": [
       "['92557']"
      ]
     },
     "execution_count": 77,
     "metadata": {},
     "output_type": "execute_result"
    }
   ],
   "source": [
    "zillow_zipcodes = zipcode_data \\\n",
    "    .filter(zipcode_data.event_type == 'get_zillow_data') \\\n",
    "    .select('zipcodes') \\\n",
    "    .rdd.flatMap(lambda x: x).collect()\n",
    "zillow_zipcodes"
   ]
  },
  {
   "cell_type": "code",
   "execution_count": 78,
   "metadata": {},
   "outputs": [
    {
     "name": "stdout",
     "output_type": "stream",
     "text": [
      "+--------+--------------------+-----------------+-------------+-----+-------+--------+---------+----+------+------+\n",
      "|    zpid|        full_address|   street_address|         city|state|zipcode|bedrooms|bathrooms|sqft| price| owner|\n",
      "+--------+--------------------+-----------------+-------------+-----+-------+--------+---------+----+------+------+\n",
      "|17875262|23043 seabrook ln...|23043 seabrook ln|moreno valley|   ca|  92557|       2|        2| 936|383900|zillow|\n",
      "+--------+--------------------+-----------------+-------------+-----+-------+--------+---------+----+------+------+\n",
      "\n"
     ]
    }
   ],
   "source": [
    "zillow.filter(zillow.zipcode.isin(zillow_zipcodes)).show(5)"
   ]
  }
 ],
 "metadata": {
  "kernelspec": {
   "display_name": "Python 3",
   "language": "python",
   "name": "python3"
  },
  "language_info": {
   "codemirror_mode": {
    "name": "ipython",
    "version": 3
   },
   "file_extension": ".py",
   "mimetype": "text/x-python",
   "name": "python",
   "nbconvert_exporter": "python",
   "pygments_lexer": "ipython3",
   "version": "3.6.1"
  }
 },
 "nbformat": 4,
 "nbformat_minor": 2
}
